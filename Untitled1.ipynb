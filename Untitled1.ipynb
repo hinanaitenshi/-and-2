{
 "cells": [
  {
   "cell_type": "code",
   "execution_count": null,
   "metadata": {},
   "outputs": [],
   "source": [
    "#dictionary(簡稱dict)，是含有key(鍵值)的串列(list)\n",
    "person_dict = {'name':'tony','age':20,'sex':'M','height':170,'weight':55}\n",
    "print(person_dict['name'])\n",
    "print(person_dict['age'])\n",
    "a_list= ['python','java','vb']\n",
    "a_dict= {0:'python',1:'java',2:'vb'}\n",
    "print(a_dict[0])\n",
    "print(person_dict.keys())\n",
    "print(person_dict.values())\n",
    "print(person_dict.items())\n",
    "a=['name','age','sex','height','wieght']\n",
    "b=['tony',20,'M',170,55]\n",
    "ab_dict = dict(zip(a,b)) #兩個list組合而成(dictionaty)\n",
    "print(ab_dict)"
   ]
  },
  {
   "cell_type": "code",
   "execution_count": null,
   "metadata": {},
   "outputs": [],
   "source": [
    "#畫圖2\n",
    "import matplotlib.pyplot as pt\n",
    "import numpy as np\n",
    "x=np.random.rand(50)\n",
    "y=np.random.rand(50)\n",
    "pt.scatter(x,y)\n",
    "pt.show()"
   ]
  },
  {
   "cell_type": "code",
   "execution_count": null,
   "metadata": {},
   "outputs": [],
   "source": [
    "#畫圖3 曲線 sin\n",
    "import matplotlib.pyplot as pt\n",
    "import numpy as np\n",
    "x=np.arange(0,380)#產生0到380的x\n",
    "y=np.sin(x*np.pi/180.0)#產生對應0到380的y\n",
    "pt.xlim(-1,380)#x軸範圍\n",
    "pt.ylim(-1.2,1.2)#y軸範圍\n",
    "pt.plot(x,y)\n",
    "pt.show()"
   ]
  },
  {
   "cell_type": "code",
   "execution_count": null,
   "metadata": {},
   "outputs": [],
   "source": [
    "#畫圖3 曲線 sin & cos\n",
    "import matplotlib.pyplot as pt\n",
    "import numpy as np\n",
    "x=np.arange(0,380)\n",
    "y=np.sin(x*np.pi/180.0)\n",
    "z=np.cos(x*np.pi/180.0)\n",
    "pt.xlim(-1,380)\n",
    "pt.ylim(-1.2,1.2)\n",
    "pt.plot(x,y,label=\"Sin\")#加提示線 要在底下打pt.legend()\n",
    "pt.plot(x,z,label=\"Cos\")\n",
    "pt.title(\"Sin & Cos wave\")\n",
    "pt.xlabel(\"Degree\")\n",
    "pt.ylabel(\"Value\")\n",
    "pt.legend() #小正方形裡面的東西\n",
    "pt.show()"
   ]
  },
  {
   "cell_type": "code",
   "execution_count": null,
   "metadata": {},
   "outputs": [],
   "source": [
    "# sciket-learn機器學習套件\n",
    "# datasets sciket-learn 內部之測試資料集\n",
    "from sklearn import datasets\n",
    "iris = datasets.load_iris()\n",
    "print(iris[\"DESCR\"])\n",
    "print(iris[\"feature_names\"]) #欄位名稱\n",
    "print(iris[\"data\"]) #150筆資料內容\n",
    "print(iris[\"target\"]) #150筆資料的正確分類答案"
   ]
  },
  {
   "cell_type": "code",
   "execution_count": null,
   "metadata": {},
   "outputs": [],
   "source": [
    "# R-MEANS群聚演算法\n",
    "from sklearn import datasets , cluster , metrics\n",
    "iris = datasets.load_iris()\n",
    "iris_data=iris.data\n",
    "# 執行R-MEANS 群聚演算法\n",
    "result=cluster.KMeans(n_clusters=3).fit(iris_data)\n",
    "# result.Labels_ 預測的分群結果\n",
    "print(result.labels_)\n",
    "# silhouette score 評估分群結果的好壞 越是接近1越好\n",
    "silhouette_avg=metrics.silhouette_score(iris_data, result.labels_)\n",
    "print(silhouette_avg)"
   ]
  },
  {
   "cell_type": "code",
   "execution_count": null,
   "metadata": {},
   "outputs": [],
   "source": [
    "from sklearn import datasets\n",
    "import matplotlib.pyplot as plt\n",
    "digits=datasets.load_digits()\n",
    "#print(digits[\"DESCR\"])\n",
    "#print(digits[\"data\"])\n",
    "#print(digits[\"target\"])\n",
    "\n",
    "plt.figure(1, figsize=(3,3))\n",
    "plt.imshow(digits.images[0], cmap=plt.cm.gray_r, interpolation= 'nearest')\n",
    "plt.show"
   ]
  },
  {
   "cell_type": "code",
   "execution_count": null,
   "metadata": {},
   "outputs": [],
   "source": [
    "from sklearn import datasets ,svm\n",
    "import matplotlib.pyplot as plt\n",
    "digits=datasets.load_digits()\n",
    "from sklearn.cross_validation import train_test_split\n",
    "X_train,X_test,Y_train,Y_test,images_train,images_test=train_test_split(digits.data,digits.target,digits.images,test_size=0.25,random_state=42)\n",
    "\n",
    "svc_model=svm.SVC(gamma=0.001,C=100,kernel='linear')\n",
    "svc_model.fit(X_train,Y_train)\n",
    "predicted = svc_model.predict(X_test)\n",
    "images_and_predictions=list(zip(images_test,predicted))\n",
    "\n",
    "for index,(image,preadiction)in enumerate(images_and_predictions[:5]):\n",
    "    plt.subplot(1,5,index+1)\n",
    "    plt.axis('off')\n",
    "    plt.imshow(image,cmap=plt.cm.binary)\n",
    "    plt.title('predicted:'+str(prediction))\n",
    "    plt.show()"
   ]
  },
  {
   "cell_type": "code",
   "execution_count": null,
   "metadata": {},
   "outputs": [],
   "source": []
  }
 ],
 "metadata": {
  "kernelspec": {
   "display_name": "Python 3",
   "language": "python",
   "name": "python3"
  },
  "language_info": {
   "codemirror_mode": {
    "name": "ipython",
    "version": 3
   },
   "file_extension": ".py",
   "mimetype": "text/x-python",
   "name": "python",
   "nbconvert_exporter": "python",
   "pygments_lexer": "ipython3",
   "version": "3.6.4"
  }
 },
 "nbformat": 4,
 "nbformat_minor": 2
}
